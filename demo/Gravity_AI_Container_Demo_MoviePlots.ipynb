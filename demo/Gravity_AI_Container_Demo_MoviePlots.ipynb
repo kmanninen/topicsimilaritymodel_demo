{
 "cells": [
  {
   "cell_type": "code",
   "execution_count": 1,
   "metadata": {},
   "outputs": [],
   "source": [
    "import mysql.connector\n",
    "from api.db import DB_MOVIES\n",
    "import topicsimilaritymodel_gravityai\n",
    "import re\n",
    "import json"
   ]
  },
  {
   "cell_type": "code",
   "execution_count": 2,
   "metadata": {},
   "outputs": [],
   "source": [
    "# Define a way to cleanup the text, so we are comparing apples to apples.\n",
    "strReplace = [('-', ' '),\n",
    "             ('_', ' '),\n",
    "             ('=', ' '),\n",
    "             ('/', ' '),\n",
    "             ('[(,),{,},<,>,»,«,’,\\',‘,”,“,„,‚,\\\",&,#,*,§,€,$,+]', '')]\n",
    "\n",
    "def stringReplace(myString):\n",
    "    for pattern, repl in strReplace:\n",
    "        myString = re.sub(pattern, repl, myString)\n",
    "    return myString"
   ]
  },
  {
   "cell_type": "code",
   "execution_count": 3,
   "metadata": {},
   "outputs": [],
   "source": [
    "cnx = mysql.connector.connect(\n",
    "    user='gravityuser',\n",
    "    password='D3m0D@atabase',\n",
    "    host='mysql-topicsimilaritymodel-demo',\n",
    "    database='wikipedia_movie_plots',\n",
    "    port=3306\n",
    ")"
   ]
  },
  {
   "cell_type": "code",
   "execution_count": 4,
   "metadata": {},
   "outputs": [],
   "source": [
    "db = DB_MOVIES(cnx)"
   ]
  },
  {
   "cell_type": "code",
   "execution_count": 5,
   "metadata": {},
   "outputs": [
    {
     "name": "stdout",
     "output_type": "stream",
     "text": [
      "50\n"
     ]
    }
   ],
   "source": [
    "# Retrieve our \"training\" documents. These will be used to fit the model.\n",
    "# The training documents shall look like the unknown documents we will be trying to match later.\n",
    "# This means, if we are looking through News articles then we should train the model with News articles that\n",
    "# have similar grammar and language. Likewise, if we are searching through publications then the training\n",
    "# data should ideally consist of publications.\n",
    "# Ideally, these training documents shall be examples of documents that we are looking for.\n",
    "trainingDocsDB = db.get_documentsRandom(50)\n",
    "trainingDocs = []\n",
    "for doc in trainingDocsDB:\n",
    "    if doc[1]:\n",
    "        trainingDocs.append(stringReplace(doc[1]))\n",
    "print(len(trainingDocs))"
   ]
  },
  {
   "cell_type": "code",
   "execution_count": 6,
   "metadata": {},
   "outputs": [
    {
     "name": "stdout",
     "output_type": "stream",
     "text": [
      "In 1985 Hill Valley California teenager Marty McFly and his girlfriend Jennifer Parker are chastised by the school principal for lateness. Marty auditions for the Battle of the Bands but is rejected for being too loud. At home Martys father George is bullied by his supervisor Biff Tannen while his mother Lorraine is an overweight depressed alcoholic. Lorraine recalls how she met George when her father hit him with his car.\r\n",
      "Marty is invited by his friend eccentric inventor Dr. Emmett Brown to meet him in a parking lot in the early hours. Doc unveils a time machine built from a modified DeLorean and powered by plutonium stolen from terrorists. Preparing to demonstrate the time machine Doc sets the date to November 5 1955: the day he invented time travel. The terrorists arrive and shoot Doc. Marty escapes in the DeLorean but inadvertently activates the time machine.\r\n",
      "Marty finds himself in 1955 without enough plutonium to return. He encounters the teenaged George who is bullied by his classmate Biff. After Marty saves George from an oncoming car he is knocked unconscious and awakens to find himself tended to by Lorraine who is infatuated with him.\r\n",
      "Marty tracks down Docs younger self for help. With no plutonium Doc explains that the only power source capable of generating the necessary 1.21 gigawatts of electricity for the time machine is a bolt of lightning. Marty shows Doc a flyer from the future that recounts a lightning strike at the towns courthouse due the coming Saturday night.\r\n",
      "Doc instructs Marty to not leave his house or interact with anyone as he could inadvertently alter the future; because of this Doc refuses to heed warnings from Marty about his death in 1985. Marty realizes that he has prevented his parents from meeting and Doc warns him that Marty will be erased from existence if he does not find a way to introduce George to Lorraine. Doc formulates a plan to harness the power of the lightning while Marty sets about introducing his parents.\r\n",
      "After Lorraine asks Marty to the school dance Marty concocts a plan: he will feign inappropriate advances on Lorraine allowing George to rescue her. The plan goes awry when a drunken Biff attempts to force himself on Lorraine. George enraged knocks out Biff and Lorraine follows him to the dance floor where they kiss while Marty performs with the band.\r\n",
      "As the storm arrives Marty returns to the clock tower and the lightning strikes sending Marty back to 1985. Doc has survived the shooting as he had listened to Martys warnings and worn a bullet proof vest. Doc takes Marty home and departs to the future. Marty awakens the next morning to find that George is a successful author Lorraine is fit and happy and Biff is now an obsequious auto valet. As Marty reunites with Jennifer the DeLorean appears with Doc insisting they accompany him to 2015 to resolve a problem with their future children. The trio board the DeLorean and warp to the future.\n"
     ]
    }
   ],
   "source": [
    "# Retrieve our \"topic\" text. This is what we will look for when matching.\n",
    "# In this example, we are looking for a movie with a plot similar to \"Back to the Future\"\n",
    "topicDB = db.get_topic(1)\n",
    "topicText = stringReplace(topicDB[0][0])\n",
    "print(topicText)"
   ]
  },
  {
   "cell_type": "code",
   "execution_count": 7,
   "metadata": {},
   "outputs": [
    {
     "name": "stdout",
     "output_type": "stream",
     "text": [
      "34886\n"
     ]
    }
   ],
   "source": [
    "# Retrieve our \"unknown\" documents. These are the documents we want to score.\n",
    "docsDB = db.get_documents()\n",
    "docs = []\n",
    "docsWithAttributes = []\n",
    "maxDocs = 0\n",
    "for doc in docsDB:\n",
    "    if doc[1]:\n",
    "        docObj = {\n",
    "            'id': doc[0],\n",
    "            'text': stringReplace(doc[1])\n",
    "        }\n",
    "        docsWithAttributes.append(docObj)\n",
    "print(len(docsWithAttributes))"
   ]
  },
  {
   "cell_type": "code",
   "execution_count": 8,
   "metadata": {},
   "outputs": [
    {
     "name": "stdout",
     "output_type": "stream",
     "text": [
      "[{'id': 'Kansas Saloon Smashers', 'text': 'A bartender is working at a saloon serving drinks to customers. After he fills a stereotypically Irish mans bucket with beer Carrie Nation and her followers burst inside. They assault the Irish man pulling his hat over his eyes and then dumping the beer over his head. The group then begin wrecking the bar smashing the fixtures mirrors and breaking the cash register. The bartender then sprays seltzer water in Nations face before a group of policemen appear and order everybody to leave.[1]'}, {'id': 'Love by the Light of the Moon', 'text': 'The moon painted with a smiling face hangs over a park at night. A young couple walking past a fence learn on a railing and look up. The moon smiles. They embrace and the moons smile gets bigger. They then sit down on a bench by a tree. The moons view is blocked causing him to frown. In the last scene the man fans the woman with his hat because the moon has left the sky and is perched over her shoulder to see everything better.'}, {'id': 'The Martyred Presidents', 'text': 'The film just over a minute long is composed of two shots. In the first a girl sits at the base of an altar or tomb her face hidden from the camera. At the center of the altar a viewing portal displays the portraits of three U.S. Presidents—Abraham Lincoln James A. Garfield and William McKinley—each victims of assassination.\\r\\nIn the second shot which runs just over eight seconds long an assassin kneels feet of Lady Justice.'}, {'id': 'Terrible Teddy, the Grizzly King', 'text': 'Lasting just 61 seconds and consisting of two shots the first shot is set in a wood during winter. The actor representing then vice president Theodore Roosevelt enthusiastically hurries down a hillside towards a tree in the foreground. He falls once but rights himself and cocks his rifle. Two other men bearing signs reading His Photographer and His Press Agent respectively follow him into the shot; the photographer sets up his camera. Teddy aims his rifle upward at the tree and fells what appears to be a common house cat which he then proceeds to stab. Teddy holds his prize aloft and the press agent takes notes. The second shot is taken in a slightly different part of the wood on a path. Teddy rides the path on his horse towards the camera and out to the left of the shot followed closely by the press agent and photographer still dutifully holding their signs.'}, {'id': 'Jack and the Beanstalk', 'text': 'The earliest known adaptation of the classic fairytale this films shows Jack trading his cow for the beans his mother forcing him to drop them in the front yard and beig forced upstairs. As he sleeps Jack is visited by a fairy who shows him glimpses of what will await him when he ascends the bean stalk. In this version Jack is the son of a deposed king. When Jack wakes up he finds the beanstalk has grown and he climbs to the top where he enters the giants home. The giant finds Jack who narrowly escapes. The giant chases Jack down the bean stalk but Jack is able to cut it down before the giant can get to safety. He falls and is killed as Jack celebrates. The fairy then reveals that Jack may return home as a prince.'}, {'id': 'Alice in Wonderland', 'text': 'Alice follows a large white rabbit down a Rabbit hole. She finds a tiny door. When she finds a bottle labeled Drink me she does and shrinks but not enough to pass through the door. She then eats something labeled Eat me and grows larger. She finds a fan when enables her to shrink enough to get into the Garden and try to get a Dog to play with her. She enters the White Rabbits tiny House but suddenly resumes her normal size. In order to get out she has to use the magic fan.\\r\\nShe enters a kitchen in which there is a cook and a woman holding a baby. She persuades the woman to give her the child and takes the infant outside after the cook starts throwing things around. The baby then turns into a pig and squirms out of her grip. The Duchesss Cheshire Cat appears and disappears a couple of times to Alice and directs her to the Mad Hatters Mad Tea Party. After a while she leaves.\\r\\nThe Queen invites Alice to join the ROYAL PROCESSION: a parade of marching playing cards and others headed by the White Rabbit. When Alice unintentionally offends the Queen the latter summons the Executioner. Alice boxes the ears then flees when all the playing cards come for her. Then she wakes up and realizes it was all a dream.'}, {'id': 'The Great Train Robbery', 'text': 'The film opens with two bandits breaking into a railroad telegraph office where they force the operator at gunpoint to have a train stopped and to transmit orders for the engineer to fill the locomotives tender at the stations water tank. They then knock the operator out and tie him up. As the train stops it is boarded by the bandits?—?now four. Two bandits enter an express car kill a messenger and open a box of valuables with dynamite; the others kill the fireman and force the engineer to halt the train and disconnect the locomotive. The bandits then force the passengers off the train and rifle them for their belongings. One passenger tries to escape but is instantly shot down. Carrying their loot the bandits escape in the locomotive later stopping in a valley where their horses had been left.\\r\\nMeanwhile back in the telegraph office the bound operator awakens but he collapses again. His daughter arrives bringing him his meal and cuts him free and restores him to consciousness by dousing him with water.\\r\\nThere is some comic relief at a dance hall where an Eastern stranger is forced to dance while the locals fire at his feet. The door suddenly opens and the telegraph operator rushes in to tell them of the robbery. The men quickly form a posse which overtakes the bandits and in a final shootout kills them all and recovers the stolen mail.'}, {'id': 'The Suburbanite', 'text': 'The film is about a family who move to the suburbs hoping for a quiet life. Things start to go wrong and the wife gets violent and starts throwing crockery leading to her arrest.'}, {'id': 'The Little Train Robbery', 'text': 'The opening scene shows the interior of the robbers den. The walls are decorated with the portraits of notorious criminals and pictures illustrating the exploits of famous bandits. Some of the gang are lounging about while others are reading novels and illustrated papers. Although of youthful appearance each is dressed like a typical Western desperado. The Bandit Queen leading a blindfolded new recruit now enters the room. He is led to the center of the room raises his right hand and is solemnly sworn in. When the bandage is removed from his eyes he finds himself looking into the muzzles of a dozen or more 45s. The gang then congratulates the new member and heartily shake his hand. The Bandit Queen who is evidently the leader of the gang now calls for volunteers to hold up a train. All respond but she picks out seven for the job who immediately leave the cabin.\\r\\nThe next scene shows the gang breaking into a barn. They steal ponies and ride away. Upon reaching the place agreed upon they picket their ponies and leaving them in charge of a trusted member proceed to a wild mountain spot in a bend of the railroad where the road runs over a steep embankment. The spot is an ideal one for holding up a train. Cross ties are now placed on the railroad track and the gang hide in some bushes close by and wait for the train. The train soon approaches and is brought to a stop. The engineer leaves his engine and proceeds to remove the obstruction on the track. While he is bending over one of the gang sneaks up behind them and hits him on the head with an axe and knocks him senseless down the embankment while the gang surround the train and hold up the passengers. After securing all the valuables consisting principally of candy and dolls the robbers uncouple the engine and one car and make their escape just in time to avoid a posse of police who appear on the scene. Further up the road they abandon the engine and car take to the woods and soon reach their ponies.\\r\\nIn the meantime the police have learned the particulars of the hold up from the frightened passengers and have started up the railroad tracks after the fleeing robbers. The robbers are next seen riding up the bed of a shallow stream and finally reach their den where the remainder of the gang have been waiting for them. Believing they have successfully eluded their pursuers they proceed to divide the plunder. The police however have struck the right trail and are in close pursuit. While the plunder is being divided a sentry gives the alarm and the entire gang abandoning everything rush from the cabin barely in time to escape capture. The police make a hurried search and again start in pursuit. The robbers are so hard pressed that they are unable to reach their ponies and are obliged to take chances on foot. The police now get in sight of the fleeing robbers and a lively chase follows through tall weeds over a bridge and up a steep hill. Reaching a pond the police are close on their heels. The foremost robbers jump in clothes and all and strike out for the opposite bank. Two hesitate and are captured. Boats are secured and after an exciting tussle the entire gang is rounded up. In the mix up one of the police is dragged overboard. The final scene shows the entire gang of bedraggled and crestfallen robbers tied together with a rope and being led away by the police. Two of the police are loaded down with revolvers knives and cartridge belts and resemble walking aresenals. As a fitting climax a confederate steals out of the woods cuts the rope and gallantly rescues the Bandit Queen.'}, {'id': 'The Night Before Christmas', 'text': 'Scenes are introduced using lines of the poem.[2] Santa Claus played by Harry Eytinge is shown feeding real reindeer[4] and finishes his work in the workshop. Meanwhile the children of a city household hang their stockings and go to bed but unable to sleep they engage in a pillow fight. Santa Claus leaves his home on a sleigh with his reindeer. He enters the childrens house through the chimney and leaves the presents. The children come down the stairs and enjoy their presents.'}]\n"
     ]
    }
   ],
   "source": [
    "print(docsWithAttributes[:10])"
   ]
  },
  {
   "cell_type": "code",
   "execution_count": 8,
   "metadata": {},
   "outputs": [],
   "source": [
    "testData = [{\n",
    "    \"trainingDocs\": trainingDocs,\n",
    "    \"topicText\": [topicText],\n",
    "    \"documents\": docsWithAttributes\n",
    "}]"
   ]
  },
  {
   "cell_type": "code",
   "execution_count": 10,
   "metadata": {},
   "outputs": [],
   "source": [
    "gravityai = topicsimilaritymodel_gravityai.Model('http://172.18.0.4:80')"
   ]
  },
  {
   "cell_type": "code",
   "execution_count": 11,
   "metadata": {},
   "outputs": [
    {
     "name": "stdout",
     "output_type": "stream",
     "text": [
      "Health check is ok\n"
     ]
    }
   ],
   "source": [
    "response = gravityai.health()\n",
    "print(response.text)"
   ]
  },
  {
   "cell_type": "code",
   "execution_count": 13,
   "metadata": {},
   "outputs": [
    {
     "name": "stdout",
     "output_type": "stream",
     "text": [
      "{\"data\":{\"id\":\"48e42a87-ae1b-4637-8ec6-8f2d818f9054\",\"status\":\"Created\",\"errorMessage\":null},\"isError\":false,\"errorMessage\":null}\n"
     ]
    }
   ],
   "source": [
    "response = gravityai.addJob(testData)\n",
    "print(response.text)"
   ]
  },
  {
   "cell_type": "code",
   "execution_count": 14,
   "metadata": {},
   "outputs": [
    {
     "name": "stdout",
     "output_type": "stream",
     "text": [
      "{\"data\":{\"id\":\"48e42a87-ae1b-4637-8ec6-8f2d818f9054\",\"status\":\"Complete\",\"errorMessage\":null},\"isError\":false,\"errorMessage\":null}\n"
     ]
    }
   ],
   "source": [
    "response = gravityai.getStatus(\"48e42a87-ae1b-4637-8ec6-8f2d818f9054\")\n",
    "print(response.text)"
   ]
  },
  {
   "cell_type": "code",
   "execution_count": 15,
   "metadata": {},
   "outputs": [],
   "source": [
    "results = json.loads(gravityai.getResult(\"48e42a87-ae1b-4637-8ec6-8f2d818f9054\").text)\n"
   ]
  },
  {
   "cell_type": "code",
   "execution_count": 16,
   "metadata": {},
   "outputs": [],
   "source": [
    "import pandas as pd"
   ]
  },
  {
   "cell_type": "code",
   "execution_count": 17,
   "metadata": {},
   "outputs": [],
   "source": [
    "# We can import our docs with attributes into a Pandas Dataframe.\n",
    "resultsDF = pd.DataFrame(results[\"documents\"])"
   ]
  },
  {
   "cell_type": "code",
   "execution_count": 18,
   "metadata": {},
   "outputs": [
    {
     "data": {
      "text/html": [
       "<div>\n",
       "<style scoped>\n",
       "    .dataframe tbody tr th:only-of-type {\n",
       "        vertical-align: middle;\n",
       "    }\n",
       "\n",
       "    .dataframe tbody tr th {\n",
       "        vertical-align: top;\n",
       "    }\n",
       "\n",
       "    .dataframe thead th {\n",
       "        text-align: right;\n",
       "    }\n",
       "</style>\n",
       "<table border=\"1\" class=\"dataframe\">\n",
       "  <thead>\n",
       "    <tr style=\"text-align: right;\">\n",
       "      <th></th>\n",
       "      <th>id</th>\n",
       "      <th>text</th>\n",
       "      <th>similarityScore</th>\n",
       "    </tr>\n",
       "  </thead>\n",
       "  <tbody>\n",
       "    <tr>\n",
       "      <th>10322</th>\n",
       "      <td>Back to the Future</td>\n",
       "      <td>In 1985 Hill Valley California teenager Marty ...</td>\n",
       "      <td>1.000000</td>\n",
       "    </tr>\n",
       "    <tr>\n",
       "      <th>12066</th>\n",
       "      <td>Rookie of the Year</td>\n",
       "      <td>Henry Rowengartner Nicholas 12 year old Little...</td>\n",
       "      <td>0.999988</td>\n",
       "    </tr>\n",
       "    <tr>\n",
       "      <th>15181</th>\n",
       "      <td>Daddy Day Camp</td>\n",
       "      <td>Four years after the events of Daddy Day Care ...</td>\n",
       "      <td>0.999963</td>\n",
       "    </tr>\n",
       "    <tr>\n",
       "      <th>33155</th>\n",
       "      <td>Tokyo: The Last Megalopolis</td>\n",
       "      <td>The live action film is an adaptation of the f...</td>\n",
       "      <td>0.999949</td>\n",
       "    </tr>\n",
       "    <tr>\n",
       "      <th>33965</th>\n",
       "      <td>The Third Murder</td>\n",
       "      <td>Tomoaki Shigemori is a lawyer tasked with defe...</td>\n",
       "      <td>0.999945</td>\n",
       "    </tr>\n",
       "    <tr>\n",
       "      <th>...</th>\n",
       "      <td>...</td>\n",
       "      <td>...</td>\n",
       "      <td>...</td>\n",
       "    </tr>\n",
       "    <tr>\n",
       "      <th>3386</th>\n",
       "      <td>Northwest Rangers</td>\n",
       "      <td>A mountie tracks down a former childhood friend.</td>\n",
       "      <td>0.269321</td>\n",
       "    </tr>\n",
       "    <tr>\n",
       "      <th>7606</th>\n",
       "      <td>Heaven and Earth Magic</td>\n",
       "      <td>Smith explains:</td>\n",
       "      <td>0.258707</td>\n",
       "    </tr>\n",
       "    <tr>\n",
       "      <th>19263</th>\n",
       "      <td>Cloak Without Dagger</td>\n",
       "      <td>A fashion reporter is united with a former boy...</td>\n",
       "      <td>0.257614</td>\n",
       "    </tr>\n",
       "    <tr>\n",
       "      <th>4343</th>\n",
       "      <td>Tangier</td>\n",
       "      <td>In Tangier disgraced American war corresponden...</td>\n",
       "      <td>0.122719</td>\n",
       "    </tr>\n",
       "    <tr>\n",
       "      <th>25016</th>\n",
       "      <td>Jadu Tona</td>\n",
       "      <td>Bekar hai sab kich | url http:  www.imdb.com t...</td>\n",
       "      <td>0.113625</td>\n",
       "    </tr>\n",
       "  </tbody>\n",
       "</table>\n",
       "<p>34886 rows × 3 columns</p>\n",
       "</div>"
      ],
      "text/plain": [
       "                                id  \\\n",
       "10322           Back to the Future   \n",
       "12066           Rookie of the Year   \n",
       "15181               Daddy Day Camp   \n",
       "33155  Tokyo: The Last Megalopolis   \n",
       "33965             The Third Murder   \n",
       "...                            ...   \n",
       "3386             Northwest Rangers   \n",
       "7606        Heaven and Earth Magic   \n",
       "19263         Cloak Without Dagger   \n",
       "4343                       Tangier   \n",
       "25016                    Jadu Tona   \n",
       "\n",
       "                                                    text  similarityScore  \n",
       "10322  In 1985 Hill Valley California teenager Marty ...         1.000000  \n",
       "12066  Henry Rowengartner Nicholas 12 year old Little...         0.999988  \n",
       "15181  Four years after the events of Daddy Day Care ...         0.999963  \n",
       "33155  The live action film is an adaptation of the f...         0.999949  \n",
       "33965  Tomoaki Shigemori is a lawyer tasked with defe...         0.999945  \n",
       "...                                                  ...              ...  \n",
       "3386    A mountie tracks down a former childhood friend.         0.269321  \n",
       "7606                                     Smith explains:         0.258707  \n",
       "19263  A fashion reporter is united with a former boy...         0.257614  \n",
       "4343   In Tangier disgraced American war corresponden...         0.122719  \n",
       "25016  Bekar hai sab kich | url http:  www.imdb.com t...         0.113625  \n",
       "\n",
       "[34886 rows x 3 columns]"
      ]
     },
     "execution_count": 18,
     "metadata": {},
     "output_type": "execute_result"
    }
   ],
   "source": [
    "# Lets print out the Dataframe. Now we have a 'score' attribute, that can be used for analysis.\n",
    "resultsDF.sort_values(by='similarityScore', ascending=False)"
   ]
  },
  {
   "cell_type": "code",
   "execution_count": 19,
   "metadata": {},
   "outputs": [],
   "source": [
    "# Let's take a look at the scores, graphically.\n",
    "import matplotlib.pyplot as plt"
   ]
  },
  {
   "cell_type": "code",
   "execution_count": 20,
   "metadata": {},
   "outputs": [
    {
     "data": {
      "text/plain": [
       "<Figure size 432x288 with 0 Axes>"
      ]
     },
     "execution_count": 20,
     "metadata": {},
     "output_type": "execute_result"
    },
    {
     "data": {
      "text/plain": [
       "<Figure size 432x288 with 0 Axes>"
      ]
     },
     "metadata": {},
     "output_type": "display_data"
    }
   ],
   "source": [
    "plt.figure()"
   ]
  },
  {
   "cell_type": "code",
   "execution_count": 21,
   "metadata": {},
   "outputs": [
    {
     "data": {
      "text/plain": [
       "<matplotlib.axes._subplots.AxesSubplot at 0x7f05e2915eb0>"
      ]
     },
     "execution_count": 21,
     "metadata": {},
     "output_type": "execute_result"
    },
    {
     "data": {
      "image/png": "[encoded data removed]",
      "text/plain": [
       "<Figure size 432x288 with 1 Axes>"
      ]
     },
     "metadata": {
      "needs_background": "light"
     },
     "output_type": "display_data"
    }
   ],
   "source": [
    "# Here is a bar graph of the scores.\n",
    "resultsDF[resultsDF.similarityScore > .9999].sort_values(by='similarityScore', ascending=True).plot.barh(x='id', y='similarityScore')"
   ]
  },
  {
   "cell_type": "code",
   "execution_count": 22,
   "metadata": {},
   "outputs": [
    {
     "data": {
      "text/html": [
       "<div>\n",
       "<style scoped>\n",
       "    .dataframe tbody tr th:only-of-type {\n",
       "        vertical-align: middle;\n",
       "    }\n",
       "\n",
       "    .dataframe tbody tr th {\n",
       "        vertical-align: top;\n",
       "    }\n",
       "\n",
       "    .dataframe thead th {\n",
       "        text-align: right;\n",
       "    }\n",
       "</style>\n",
       "<table border=\"1\" class=\"dataframe\">\n",
       "  <thead>\n",
       "    <tr style=\"text-align: right;\">\n",
       "      <th></th>\n",
       "      <th>id</th>\n",
       "      <th>text</th>\n",
       "      <th>similarityScore</th>\n",
       "    </tr>\n",
       "  </thead>\n",
       "  <tbody>\n",
       "    <tr>\n",
       "      <th>10322</th>\n",
       "      <td>Back to the Future</td>\n",
       "      <td>In 1985 Hill Valley California teenager Marty ...</td>\n",
       "      <td>1.000000</td>\n",
       "    </tr>\n",
       "    <tr>\n",
       "      <th>12066</th>\n",
       "      <td>Rookie of the Year</td>\n",
       "      <td>Henry Rowengartner Nicholas 12 year old Little...</td>\n",
       "      <td>0.999988</td>\n",
       "    </tr>\n",
       "    <tr>\n",
       "      <th>15181</th>\n",
       "      <td>Daddy Day Camp</td>\n",
       "      <td>Four years after the events of Daddy Day Care ...</td>\n",
       "      <td>0.999963</td>\n",
       "    </tr>\n",
       "    <tr>\n",
       "      <th>33155</th>\n",
       "      <td>Tokyo: The Last Megalopolis</td>\n",
       "      <td>The live action film is an adaptation of the f...</td>\n",
       "      <td>0.999949</td>\n",
       "    </tr>\n",
       "    <tr>\n",
       "      <th>33965</th>\n",
       "      <td>The Third Murder</td>\n",
       "      <td>Tomoaki Shigemori is a lawyer tasked with defe...</td>\n",
       "      <td>0.999945</td>\n",
       "    </tr>\n",
       "    <tr>\n",
       "      <th>9620</th>\n",
       "      <td>Love At First Bite</td>\n",
       "      <td>The infamous vampire Count Dracula is expelled...</td>\n",
       "      <td>0.999945</td>\n",
       "    </tr>\n",
       "    <tr>\n",
       "      <th>15197</th>\n",
       "      <td>Evan Almighty</td>\n",
       "      <td>Newly elected to Congress former local televis...</td>\n",
       "      <td>0.999915</td>\n",
       "    </tr>\n",
       "  </tbody>\n",
       "</table>\n",
       "</div>"
      ],
      "text/plain": [
       "                                id  \\\n",
       "10322           Back to the Future   \n",
       "12066           Rookie of the Year   \n",
       "15181               Daddy Day Camp   \n",
       "33155  Tokyo: The Last Megalopolis   \n",
       "33965             The Third Murder   \n",
       "9620            Love At First Bite   \n",
       "15197                Evan Almighty   \n",
       "\n",
       "                                                    text  similarityScore  \n",
       "10322  In 1985 Hill Valley California teenager Marty ...         1.000000  \n",
       "12066  Henry Rowengartner Nicholas 12 year old Little...         0.999988  \n",
       "15181  Four years after the events of Daddy Day Care ...         0.999963  \n",
       "33155  The live action film is an adaptation of the f...         0.999949  \n",
       "33965  Tomoaki Shigemori is a lawyer tasked with defe...         0.999945  \n",
       "9620   The infamous vampire Count Dracula is expelled...         0.999945  \n",
       "15197  Newly elected to Congress former local televis...         0.999915  "
      ]
     },
     "execution_count": 22,
     "metadata": {},
     "output_type": "execute_result"
    }
   ],
   "source": [
    "# As we train topics we can begin to ascertain which scores indicate relevant results.\n",
    "# We can call this the \"cutoff score\" and create an application that only shows users\n",
    "# docs that have a score higher than that cutoff score.\n",
    "# Here, lets see all values higher than .9999\n",
    "# This returns a smaller subset of docs for the user to review.\n",
    "resultsDF[resultsDF.similarityScore > .9999].sort_values(by='similarityScore', ascending=False)"
   ]
  },
  {
   "cell_type": "code",
   "execution_count": 23,
   "metadata": {},
   "outputs": [
    {
     "name": "stdout",
     "output_type": "stream",
     "text": [
      "{\"data\":{\"id\":\"48e42a87-ae1b-4637-8ec6-8f2d818f9054\",\"status\":\"Deleted\",\"errorMessage\":null},\"isError\":false,\"errorMessage\":null}\n"
     ]
    }
   ],
   "source": [
    "response = gravityai.deleteJob(\"48e42a87-ae1b-4637-8ec6-8f2d818f9054\")\n",
    "print(response.text)"
   ]
  }
 ],
 "metadata": {
  "kernelspec": {
   "display_name": "Python 3",
   "language": "python",
   "name": "python3"
  },
  "language_info": {
   "codemirror_mode": {
    "name": "ipython",
    "version": 3
   },
   "file_extension": ".py",
   "mimetype": "text/x-python",
   "name": "python",
   "nbconvert_exporter": "python",
   "pygments_lexer": "ipython3",
   "version": "3.8.5"
  }
 },
 "nbformat": 4,
 "nbformat_minor": 4
}
